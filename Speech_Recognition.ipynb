{
  "cells": [
    {
      "cell_type": "code",
      "execution_count": null,
      "metadata": {
        "colab": {
          "base_uri": "https://localhost:8080/"
        },
        "id": "EJGp5p_pYXCM",
        "outputId": "c97d71a4-e88d-4434-b656-28ff3109d86f"
      },
      "outputs": [
        {
          "name": "stdout",
          "output_type": "stream",
          "text": [
            "Requirement already satisfied: ffmpeg-python in /usr/local/lib/python3.11/dist-packages (0.2.0)\n",
            "Requirement already satisfied: future in /usr/local/lib/python3.11/dist-packages (from ffmpeg-python) (1.0.0)\n"
          ]
        }
      ],
      "source": [
        "pip install ffmpeg-python"
      ]
    },
    {
      "cell_type": "code",
      "execution_count": null,
      "metadata": {
        "colab": {
          "base_uri": "https://localhost:8080/"
        },
        "id": "gms_sULjYjwF",
        "outputId": "48778e7b-2a28-4902-f25e-4261c93ada11"
      },
      "outputs": [
        {
          "name": "stdout",
          "output_type": "stream",
          "text": [
            "Collecting pydub\n",
            "  Downloading pydub-0.25.1-py2.py3-none-any.whl.metadata (1.4 kB)\n",
            "Requirement already satisfied: ffmpeg-python in /usr/local/lib/python3.11/dist-packages (0.2.0)\n",
            "Requirement already satisfied: future in /usr/local/lib/python3.11/dist-packages (from ffmpeg-python) (1.0.0)\n",
            "Downloading pydub-0.25.1-py2.py3-none-any.whl (32 kB)\n",
            "Installing collected packages: pydub\n",
            "Successfully installed pydub-0.25.1\n"
          ]
        }
      ],
      "source": [
        "!pip install pydub ffmpeg-python"
      ]
    },
    {
      "cell_type": "code",
      "execution_count": null,
      "metadata": {
        "colab": {
          "base_uri": "https://localhost:8080/"
        },
        "id": "3Yp2lK8_LIf3",
        "outputId": "c56958d3-2b83-4c22-dfba-3fc3a24b5669"
      },
      "outputs": [
        {
          "name": "stdout",
          "output_type": "stream",
          "text": [
            "\n",
            "Processing audio file...\n",
            "\n",
            "Converting audio transcript into text...\n",
            "keeping up with everything okay I was pretty frazzled the first two weeks of the semester but now I'm almost caught up in all my classes being busy sure forces you to find ways to be more efficient\n"
          ]
        }
      ],
      "source": [
        "import speech_recognition as sr\n",
        "import os\n",
        "import re\n",
        "import traceback\n",
        "\n",
        "# Initialize recognizer\n",
        "r = sr.Recognizer()\n",
        "\n",
        "# Provide the correct path for the audio file\n",
        "audio_file_path = \"/content/mc13.wav\"  # Ensure this path is correct\n",
        "\n",
        "# Attempt to process the file\n",
        "try:\n",
        "    with sr.AudioFile(audio_file_path) as source:\n",
        "        print(\"\\nProcessing audio file...\")\n",
        "\n",
        "        # Adjust for ambient noise dynamically\n",
        "        r.adjust_for_ambient_noise(source)\n",
        "\n",
        "        # Record the audio for processing\n",
        "        audio_text = r.record(source)\n",
        "\n",
        "    # Convert speech to text using Google Speech Recognition\n",
        "    text = r.recognize_google(audio_text, language=\"en-US\")\n",
        "\n",
        "    # Format transcript with better readability using regex\n",
        "    formatted_text = re.sub(r'(?<=\\.) ', '\\n', text)\n",
        "\n",
        "    print(\"\\nConverting audio transcript into text...\")\n",
        "    print(formatted_text)\n",
        "\n",
        "except FileNotFoundError:\n",
        "    print(f\"Error: File '{audio_file_path}' not found. Please check the path and try again.\")\n",
        "    exit()  # Exit early to prevent further execution\n",
        "\n",
        "except sr.UnknownValueError:\n",
        "    print(\"Could not understand the audio. Try again with clearer speech.\")\n",
        "\n",
        "except sr.RequestError:\n",
        "    print(\"Could not request results from Google API. Check your internet connection.\")\n",
        "\n",
        "except Exception as e:\n",
        "    print(f\"Unexpected error: {e}\")\n",
        "    print(traceback.format_exc())  # Prints detailed error traceback for debugging"
      ]
    }
  ],
  "metadata": {
    "colab": {
      "provenance": []
    },
    "kernelspec": {
      "display_name": "Python 3",
      "name": "python3"
    },
    "language_info": {
      "name": "python"
    }
  },
  "nbformat": 4,
  "nbformat_minor": 0
}
